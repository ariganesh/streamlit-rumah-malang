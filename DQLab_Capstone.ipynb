{
  "cells": [
    {
      "cell_type": "markdown",
      "metadata": {
        "id": "mTOC5uPd-tJl"
      },
      "source": [
        "# Library"
      ]
    },
    {
      "cell_type": "code",
      "execution_count": 28,
      "metadata": {
        "id": "HyNRK9NiGlIP"
      },
      "outputs": [],
      "source": [
        "import pandas as pd\n",
        "from pandas import DataFrame\n",
        "from pandas import concat\n",
        "from numpy import concatenate\n",
        "import numpy as np\n",
        "import matplotlib.pyplot as plt\n",
        "import pickle\n",
        "import seaborn as sns\n",
        "\n",
        "from sklearn.preprocessing import MinMaxScaler\n",
        "from sklearn.linear_model import LinearRegression\n",
        "from sklearn.model_selection import train_test_split\n",
        "from sklearn.tree import DecisionTreeClassifier\n",
        "from sklearn.metrics import accuracy_score\n",
        "from sklearn.metrics import mean_squared_error\n",
        "from sklearn.metrics import mean_absolute_error\n",
        "from sklearn.metrics import r2_score"
      ]
    },
    {
      "cell_type": "markdown",
      "metadata": {
        "id": "J8AH2LDT-8Go"
      },
      "source": [
        "# Prepocessing"
      ]
    },
    {
      "cell_type": "code",
      "execution_count": 29,
      "metadata": {
        "colab": {
          "base_uri": "https://localhost:8080/",
          "height": 255
        },
        "id": "TaUgZC6NGqO9",
        "outputId": "c84db613-37cb-408e-a310-45e2ee74a071"
      },
      "outputs": [
        {
          "output_type": "execute_result",
          "data": {
            "text/plain": [
              "                                                        address       price  \\\n",
              "title                                                                         \n",
              "Modern Residence Lowokwaru                            Lowokwaru   560000000   \n",
              "RUMAH MEWAH SUKUN 2 LANTAI KOTA MALANG                    Sukun   596000000   \n",
              "Dijual Rumah Cantik Perum Permata Jingga Lowokw...    Lowokwaru  3200000000   \n",
              "Rumah 2 Lantai Araya                                Pandanwangi  2250000000   \n",
              "Rumah Dekat Exit Toll strategis                       Lowokwaru   500000000   \n",
              "\n",
              "                                                    kamar luas_bangunan  \\\n",
              "title                                                                     \n",
              "Modern Residence Lowokwaru                              2         65 m²   \n",
              "RUMAH MEWAH SUKUN 2 LANTAI KOTA MALANG                  2         55 m²   \n",
              "Dijual Rumah Cantik Perum Permata Jingga Lowokw...      4        230 m²   \n",
              "Rumah 2 Lantai Araya                                    4        160 m²   \n",
              "Rumah Dekat Exit Toll strategis                         3          1 m²   \n",
              "\n",
              "                                                   luas_lahan  \\\n",
              "title                                                           \n",
              "Modern Residence Lowokwaru                              89 m²   \n",
              "RUMAH MEWAH SUKUN 2 LANTAI KOTA MALANG                  69 m²   \n",
              "Dijual Rumah Cantik Perum Permata Jingga Lowokw...     180 m²   \n",
              "Rumah 2 Lantai Araya                                   210 m²   \n",
              "Rumah Dekat Exit Toll strategis                         72 m²   \n",
              "\n",
              "                                                    luas_bangunan_m2  \\\n",
              "title                                                                  \n",
              "Modern Residence Lowokwaru                                        65   \n",
              "RUMAH MEWAH SUKUN 2 LANTAI KOTA MALANG                            55   \n",
              "Dijual Rumah Cantik Perum Permata Jingga Lowokw...               230   \n",
              "Rumah 2 Lantai Araya                                             160   \n",
              "Rumah Dekat Exit Toll strategis                                    1   \n",
              "\n",
              "                                                    luas_lahan_m2  \\\n",
              "title                                                               \n",
              "Modern Residence Lowokwaru                                     89   \n",
              "RUMAH MEWAH SUKUN 2 LANTAI KOTA MALANG                         69   \n",
              "Dijual Rumah Cantik Perum Permata Jingga Lowokw...            180   \n",
              "Rumah 2 Lantai Araya                                          210   \n",
              "Rumah Dekat Exit Toll strategis                                72   \n",
              "\n",
              "                                                    kode_address  \n",
              "title                                                             \n",
              "Modern Residence Lowokwaru                                    24  \n",
              "RUMAH MEWAH SUKUN 2 LANTAI KOTA MALANG                        39  \n",
              "Dijual Rumah Cantik Perum Permata Jingga Lowokw...            24  \n",
              "Rumah 2 Lantai Araya                                          34  \n",
              "Rumah Dekat Exit Toll strategis                               24  "
            ],
            "text/html": [
              "\n",
              "  <div id=\"df-233f2767-1255-47d4-866d-223fe2bc43c0\" class=\"colab-df-container\">\n",
              "    <div>\n",
              "<style scoped>\n",
              "    .dataframe tbody tr th:only-of-type {\n",
              "        vertical-align: middle;\n",
              "    }\n",
              "\n",
              "    .dataframe tbody tr th {\n",
              "        vertical-align: top;\n",
              "    }\n",
              "\n",
              "    .dataframe thead th {\n",
              "        text-align: right;\n",
              "    }\n",
              "</style>\n",
              "<table border=\"1\" class=\"dataframe\">\n",
              "  <thead>\n",
              "    <tr style=\"text-align: right;\">\n",
              "      <th></th>\n",
              "      <th>address</th>\n",
              "      <th>price</th>\n",
              "      <th>kamar</th>\n",
              "      <th>luas_bangunan</th>\n",
              "      <th>luas_lahan</th>\n",
              "      <th>luas_bangunan_m2</th>\n",
              "      <th>luas_lahan_m2</th>\n",
              "      <th>kode_address</th>\n",
              "    </tr>\n",
              "    <tr>\n",
              "      <th>title</th>\n",
              "      <th></th>\n",
              "      <th></th>\n",
              "      <th></th>\n",
              "      <th></th>\n",
              "      <th></th>\n",
              "      <th></th>\n",
              "      <th></th>\n",
              "      <th></th>\n",
              "    </tr>\n",
              "  </thead>\n",
              "  <tbody>\n",
              "    <tr>\n",
              "      <th>Modern Residence Lowokwaru</th>\n",
              "      <td>Lowokwaru</td>\n",
              "      <td>560000000</td>\n",
              "      <td>2</td>\n",
              "      <td>65 m²</td>\n",
              "      <td>89 m²</td>\n",
              "      <td>65</td>\n",
              "      <td>89</td>\n",
              "      <td>24</td>\n",
              "    </tr>\n",
              "    <tr>\n",
              "      <th>RUMAH MEWAH SUKUN 2 LANTAI KOTA MALANG</th>\n",
              "      <td>Sukun</td>\n",
              "      <td>596000000</td>\n",
              "      <td>2</td>\n",
              "      <td>55 m²</td>\n",
              "      <td>69 m²</td>\n",
              "      <td>55</td>\n",
              "      <td>69</td>\n",
              "      <td>39</td>\n",
              "    </tr>\n",
              "    <tr>\n",
              "      <th>Dijual Rumah Cantik Perum Permata Jingga Lowokwaru Malang(OLX028)</th>\n",
              "      <td>Lowokwaru</td>\n",
              "      <td>3200000000</td>\n",
              "      <td>4</td>\n",
              "      <td>230 m²</td>\n",
              "      <td>180 m²</td>\n",
              "      <td>230</td>\n",
              "      <td>180</td>\n",
              "      <td>24</td>\n",
              "    </tr>\n",
              "    <tr>\n",
              "      <th>Rumah 2 Lantai Araya</th>\n",
              "      <td>Pandanwangi</td>\n",
              "      <td>2250000000</td>\n",
              "      <td>4</td>\n",
              "      <td>160 m²</td>\n",
              "      <td>210 m²</td>\n",
              "      <td>160</td>\n",
              "      <td>210</td>\n",
              "      <td>34</td>\n",
              "    </tr>\n",
              "    <tr>\n",
              "      <th>Rumah Dekat Exit Toll strategis</th>\n",
              "      <td>Lowokwaru</td>\n",
              "      <td>500000000</td>\n",
              "      <td>3</td>\n",
              "      <td>1 m²</td>\n",
              "      <td>72 m²</td>\n",
              "      <td>1</td>\n",
              "      <td>72</td>\n",
              "      <td>24</td>\n",
              "    </tr>\n",
              "  </tbody>\n",
              "</table>\n",
              "</div>\n",
              "    <div class=\"colab-df-buttons\">\n",
              "\n",
              "  <div class=\"colab-df-container\">\n",
              "    <button class=\"colab-df-convert\" onclick=\"convertToInteractive('df-233f2767-1255-47d4-866d-223fe2bc43c0')\"\n",
              "            title=\"Convert this dataframe to an interactive table.\"\n",
              "            style=\"display:none;\">\n",
              "\n",
              "  <svg xmlns=\"http://www.w3.org/2000/svg\" height=\"24px\" viewBox=\"0 -960 960 960\">\n",
              "    <path d=\"M120-120v-720h720v720H120Zm60-500h600v-160H180v160Zm220 220h160v-160H400v160Zm0 220h160v-160H400v160ZM180-400h160v-160H180v160Zm440 0h160v-160H620v160ZM180-180h160v-160H180v160Zm440 0h160v-160H620v160Z\"/>\n",
              "  </svg>\n",
              "    </button>\n",
              "\n",
              "  <style>\n",
              "    .colab-df-container {\n",
              "      display:flex;\n",
              "      gap: 12px;\n",
              "    }\n",
              "\n",
              "    .colab-df-convert {\n",
              "      background-color: #E8F0FE;\n",
              "      border: none;\n",
              "      border-radius: 50%;\n",
              "      cursor: pointer;\n",
              "      display: none;\n",
              "      fill: #1967D2;\n",
              "      height: 32px;\n",
              "      padding: 0 0 0 0;\n",
              "      width: 32px;\n",
              "    }\n",
              "\n",
              "    .colab-df-convert:hover {\n",
              "      background-color: #E2EBFA;\n",
              "      box-shadow: 0px 1px 2px rgba(60, 64, 67, 0.3), 0px 1px 3px 1px rgba(60, 64, 67, 0.15);\n",
              "      fill: #174EA6;\n",
              "    }\n",
              "\n",
              "    .colab-df-buttons div {\n",
              "      margin-bottom: 4px;\n",
              "    }\n",
              "\n",
              "    [theme=dark] .colab-df-convert {\n",
              "      background-color: #3B4455;\n",
              "      fill: #D2E3FC;\n",
              "    }\n",
              "\n",
              "    [theme=dark] .colab-df-convert:hover {\n",
              "      background-color: #434B5C;\n",
              "      box-shadow: 0px 1px 3px 1px rgba(0, 0, 0, 0.15);\n",
              "      filter: drop-shadow(0px 1px 2px rgba(0, 0, 0, 0.3));\n",
              "      fill: #FFFFFF;\n",
              "    }\n",
              "  </style>\n",
              "\n",
              "    <script>\n",
              "      const buttonEl =\n",
              "        document.querySelector('#df-233f2767-1255-47d4-866d-223fe2bc43c0 button.colab-df-convert');\n",
              "      buttonEl.style.display =\n",
              "        google.colab.kernel.accessAllowed ? 'block' : 'none';\n",
              "\n",
              "      async function convertToInteractive(key) {\n",
              "        const element = document.querySelector('#df-233f2767-1255-47d4-866d-223fe2bc43c0');\n",
              "        const dataTable =\n",
              "          await google.colab.kernel.invokeFunction('convertToInteractive',\n",
              "                                                    [key], {});\n",
              "        if (!dataTable) return;\n",
              "\n",
              "        const docLinkHtml = 'Like what you see? Visit the ' +\n",
              "          '<a target=\"_blank\" href=https://colab.research.google.com/notebooks/data_table.ipynb>data table notebook</a>'\n",
              "          + ' to learn more about interactive tables.';\n",
              "        element.innerHTML = '';\n",
              "        dataTable['output_type'] = 'display_data';\n",
              "        await google.colab.output.renderOutput(dataTable, element);\n",
              "        const docLink = document.createElement('div');\n",
              "        docLink.innerHTML = docLinkHtml;\n",
              "        element.appendChild(docLink);\n",
              "      }\n",
              "    </script>\n",
              "  </div>\n",
              "\n",
              "\n",
              "<div id=\"df-ae38e57b-bf85-44ad-b87f-88e8acbb7562\">\n",
              "  <button class=\"colab-df-quickchart\" onclick=\"quickchart('df-ae38e57b-bf85-44ad-b87f-88e8acbb7562')\"\n",
              "            title=\"Suggest charts\"\n",
              "            style=\"display:none;\">\n",
              "\n",
              "<svg xmlns=\"http://www.w3.org/2000/svg\" height=\"24px\"viewBox=\"0 0 24 24\"\n",
              "     width=\"24px\">\n",
              "    <g>\n",
              "        <path d=\"M19 3H5c-1.1 0-2 .9-2 2v14c0 1.1.9 2 2 2h14c1.1 0 2-.9 2-2V5c0-1.1-.9-2-2-2zM9 17H7v-7h2v7zm4 0h-2V7h2v10zm4 0h-2v-4h2v4z\"/>\n",
              "    </g>\n",
              "</svg>\n",
              "  </button>\n",
              "\n",
              "<style>\n",
              "  .colab-df-quickchart {\n",
              "      --bg-color: #E8F0FE;\n",
              "      --fill-color: #1967D2;\n",
              "      --hover-bg-color: #E2EBFA;\n",
              "      --hover-fill-color: #174EA6;\n",
              "      --disabled-fill-color: #AAA;\n",
              "      --disabled-bg-color: #DDD;\n",
              "  }\n",
              "\n",
              "  [theme=dark] .colab-df-quickchart {\n",
              "      --bg-color: #3B4455;\n",
              "      --fill-color: #D2E3FC;\n",
              "      --hover-bg-color: #434B5C;\n",
              "      --hover-fill-color: #FFFFFF;\n",
              "      --disabled-bg-color: #3B4455;\n",
              "      --disabled-fill-color: #666;\n",
              "  }\n",
              "\n",
              "  .colab-df-quickchart {\n",
              "    background-color: var(--bg-color);\n",
              "    border: none;\n",
              "    border-radius: 50%;\n",
              "    cursor: pointer;\n",
              "    display: none;\n",
              "    fill: var(--fill-color);\n",
              "    height: 32px;\n",
              "    padding: 0;\n",
              "    width: 32px;\n",
              "  }\n",
              "\n",
              "  .colab-df-quickchart:hover {\n",
              "    background-color: var(--hover-bg-color);\n",
              "    box-shadow: 0 1px 2px rgba(60, 64, 67, 0.3), 0 1px 3px 1px rgba(60, 64, 67, 0.15);\n",
              "    fill: var(--button-hover-fill-color);\n",
              "  }\n",
              "\n",
              "  .colab-df-quickchart-complete:disabled,\n",
              "  .colab-df-quickchart-complete:disabled:hover {\n",
              "    background-color: var(--disabled-bg-color);\n",
              "    fill: var(--disabled-fill-color);\n",
              "    box-shadow: none;\n",
              "  }\n",
              "\n",
              "  .colab-df-spinner {\n",
              "    border: 2px solid var(--fill-color);\n",
              "    border-color: transparent;\n",
              "    border-bottom-color: var(--fill-color);\n",
              "    animation:\n",
              "      spin 1s steps(1) infinite;\n",
              "  }\n",
              "\n",
              "  @keyframes spin {\n",
              "    0% {\n",
              "      border-color: transparent;\n",
              "      border-bottom-color: var(--fill-color);\n",
              "      border-left-color: var(--fill-color);\n",
              "    }\n",
              "    20% {\n",
              "      border-color: transparent;\n",
              "      border-left-color: var(--fill-color);\n",
              "      border-top-color: var(--fill-color);\n",
              "    }\n",
              "    30% {\n",
              "      border-color: transparent;\n",
              "      border-left-color: var(--fill-color);\n",
              "      border-top-color: var(--fill-color);\n",
              "      border-right-color: var(--fill-color);\n",
              "    }\n",
              "    40% {\n",
              "      border-color: transparent;\n",
              "      border-right-color: var(--fill-color);\n",
              "      border-top-color: var(--fill-color);\n",
              "    }\n",
              "    60% {\n",
              "      border-color: transparent;\n",
              "      border-right-color: var(--fill-color);\n",
              "    }\n",
              "    80% {\n",
              "      border-color: transparent;\n",
              "      border-right-color: var(--fill-color);\n",
              "      border-bottom-color: var(--fill-color);\n",
              "    }\n",
              "    90% {\n",
              "      border-color: transparent;\n",
              "      border-bottom-color: var(--fill-color);\n",
              "    }\n",
              "  }\n",
              "</style>\n",
              "\n",
              "  <script>\n",
              "    async function quickchart(key) {\n",
              "      const quickchartButtonEl =\n",
              "        document.querySelector('#' + key + ' button');\n",
              "      quickchartButtonEl.disabled = true;  // To prevent multiple clicks.\n",
              "      quickchartButtonEl.classList.add('colab-df-spinner');\n",
              "      try {\n",
              "        const charts = await google.colab.kernel.invokeFunction(\n",
              "            'suggestCharts', [key], {});\n",
              "      } catch (error) {\n",
              "        console.error('Error during call to suggestCharts:', error);\n",
              "      }\n",
              "      quickchartButtonEl.classList.remove('colab-df-spinner');\n",
              "      quickchartButtonEl.classList.add('colab-df-quickchart-complete');\n",
              "    }\n",
              "    (() => {\n",
              "      let quickchartButtonEl =\n",
              "        document.querySelector('#df-ae38e57b-bf85-44ad-b87f-88e8acbb7562 button');\n",
              "      quickchartButtonEl.style.display =\n",
              "        google.colab.kernel.accessAllowed ? 'block' : 'none';\n",
              "    })();\n",
              "  </script>\n",
              "</div>\n",
              "    </div>\n",
              "  </div>\n"
            ],
            "application/vnd.google.colaboratory.intrinsic+json": {
              "type": "dataframe",
              "variable_name": "df",
              "summary": "{\n  \"name\": \"df\",\n  \"rows\": 800,\n  \"fields\": [\n    {\n      \"column\": \"title\",\n      \"properties\": {\n        \"dtype\": \"string\",\n        \"num_unique_values\": 781,\n        \"samples\": [\n          \"Dijual rumah di Blimbing Malang\",\n          \"Dijual Rumah Araya Malang Kawasan Eksklusif Siap Huni\",\n          \"[DN] Rumah 3 Kamar Grand Permata Jingga Sawojajar, One Gate Sistem\"\n        ],\n        \"semantic_type\": \"\",\n        \"description\": \"\"\n      }\n    },\n    {\n      \"column\": \"address\",\n      \"properties\": {\n        \"dtype\": \"category\",\n        \"num_unique_values\": 48,\n        \"samples\": [\n          \"Ketindan\",\n          \"Mergosono\",\n          \"Jatimulyo\"\n        ],\n        \"semantic_type\": \"\",\n        \"description\": \"\"\n      }\n    },\n    {\n      \"column\": \"price\",\n      \"properties\": {\n        \"dtype\": \"number\",\n        \"std\": 4040514542,\n        \"min\": 90000000,\n        \"max\": 40000000000,\n        \"num_unique_values\": 265,\n        \"samples\": [\n          2650000000,\n          3115000000,\n          2450000000\n        ],\n        \"semantic_type\": \"\",\n        \"description\": \"\"\n      }\n    },\n    {\n      \"column\": \"kamar\",\n      \"properties\": {\n        \"dtype\": \"number\",\n        \"std\": 3,\n        \"min\": 1,\n        \"max\": 25,\n        \"num_unique_values\": 20,\n        \"samples\": [\n          2,\n          25,\n          16\n        ],\n        \"semantic_type\": \"\",\n        \"description\": \"\"\n      }\n    },\n    {\n      \"column\": \"luas_bangunan\",\n      \"properties\": {\n        \"dtype\": \"category\",\n        \"num_unique_values\": 163,\n        \"samples\": [\n          \"79 m\\u00b2\",\n          \"141 m\\u00b2\",\n          \"244 m\\u00b2\"\n        ],\n        \"semantic_type\": \"\",\n        \"description\": \"\"\n      }\n    },\n    {\n      \"column\": \"luas_lahan\",\n      \"properties\": {\n        \"dtype\": \"category\",\n        \"num_unique_values\": 216,\n        \"samples\": [\n          \"304 m\\u00b2\",\n          \"208 m\\u00b2\",\n          \"378 m\\u00b2\"\n        ],\n        \"semantic_type\": \"\",\n        \"description\": \"\"\n      }\n    },\n    {\n      \"column\": \"luas_bangunan_m2\",\n      \"properties\": {\n        \"dtype\": \"number\",\n        \"std\": 221,\n        \"min\": 1,\n        \"max\": 3500,\n        \"num_unique_values\": 163,\n        \"samples\": [\n          79,\n          141,\n          244\n        ],\n        \"semantic_type\": \"\",\n        \"description\": \"\"\n      }\n    },\n    {\n      \"column\": \"luas_lahan_m2\",\n      \"properties\": {\n        \"dtype\": \"number\",\n        \"std\": 248,\n        \"min\": 1,\n        \"max\": 2672,\n        \"num_unique_values\": 216,\n        \"samples\": [\n          304,\n          208,\n          378\n        ],\n        \"semantic_type\": \"\",\n        \"description\": \"\"\n      }\n    },\n    {\n      \"column\": \"kode_address\",\n      \"properties\": {\n        \"dtype\": \"number\",\n        \"std\": 11,\n        \"min\": 1,\n        \"max\": 48,\n        \"num_unique_values\": 48,\n        \"samples\": [\n          20,\n          27,\n          15\n        ],\n        \"semantic_type\": \"\",\n        \"description\": \"\"\n      }\n    }\n  ]\n}"
            }
          },
          "metadata": {},
          "execution_count": 29
        }
      ],
      "source": [
        "# import data\n",
        "\n",
        "# dataset 4\n",
        "#url = \"https://docs.google.com/spreadsheets/d/1WFkgdWGTW2siXvCtx0Ho8nRK1PQHD6CR/edit?usp=sharing&ouid=107188913217796843959&rtpof=true&sd=true\"\n",
        "# dataset 2 (kode_addres)\n",
        "url = \"https://docs.google.com/spreadsheets/d/1e_WmZ_rL6ps_cVAFCRsQun-FJJ38Q7Mi/edit?usp=sharing&ouid=107188913217796843959&rtpof=true&sd=true\"\n",
        "url ='https://drive.google.com/uc?id=' + url.split('/')[-2]\n",
        "df = pd.read_excel(url, parse_dates = True, index_col=0)\n",
        "df.head()"
      ]
    },
    {
      "cell_type": "code",
      "execution_count": 30,
      "metadata": {
        "colab": {
          "base_uri": "https://localhost:8080/",
          "height": 300
        },
        "id": "guwQuXEi6cX1",
        "outputId": "794dfcbb-9ed1-4289-a8ab-101d1e2ce327"
      },
      "outputs": [
        {
          "output_type": "execute_result",
          "data": {
            "text/plain": [
              "              price       kamar  luas_bangunan_m2  luas_lahan_m2  kode_address\n",
              "count  8.000000e+02  800.000000         800.00000       800.0000    800.000000\n",
              "mean   2.118936e+09    4.045000         160.53125       169.5700     23.326250\n",
              "std    4.040515e+09    3.056903         221.13218       248.1035     11.188556\n",
              "min    9.000000e+07    1.000000           1.00000         1.0000      1.000000\n",
              "25%    5.500000e+08    2.000000          54.00000        70.0000     16.000000\n",
              "50%    9.500000e+08    3.000000          90.00000        96.0000     24.000000\n",
              "75%    2.200000e+09    4.000000         182.50000       165.0000     32.000000\n",
              "max    4.000000e+10   25.000000        3500.00000      2672.0000     48.000000"
            ],
            "text/html": [
              "\n",
              "  <div id=\"df-ae46930b-7e17-4866-8df3-9be2b0ba8c58\" class=\"colab-df-container\">\n",
              "    <div>\n",
              "<style scoped>\n",
              "    .dataframe tbody tr th:only-of-type {\n",
              "        vertical-align: middle;\n",
              "    }\n",
              "\n",
              "    .dataframe tbody tr th {\n",
              "        vertical-align: top;\n",
              "    }\n",
              "\n",
              "    .dataframe thead th {\n",
              "        text-align: right;\n",
              "    }\n",
              "</style>\n",
              "<table border=\"1\" class=\"dataframe\">\n",
              "  <thead>\n",
              "    <tr style=\"text-align: right;\">\n",
              "      <th></th>\n",
              "      <th>price</th>\n",
              "      <th>kamar</th>\n",
              "      <th>luas_bangunan_m2</th>\n",
              "      <th>luas_lahan_m2</th>\n",
              "      <th>kode_address</th>\n",
              "    </tr>\n",
              "  </thead>\n",
              "  <tbody>\n",
              "    <tr>\n",
              "      <th>count</th>\n",
              "      <td>8.000000e+02</td>\n",
              "      <td>800.000000</td>\n",
              "      <td>800.00000</td>\n",
              "      <td>800.0000</td>\n",
              "      <td>800.000000</td>\n",
              "    </tr>\n",
              "    <tr>\n",
              "      <th>mean</th>\n",
              "      <td>2.118936e+09</td>\n",
              "      <td>4.045000</td>\n",
              "      <td>160.53125</td>\n",
              "      <td>169.5700</td>\n",
              "      <td>23.326250</td>\n",
              "    </tr>\n",
              "    <tr>\n",
              "      <th>std</th>\n",
              "      <td>4.040515e+09</td>\n",
              "      <td>3.056903</td>\n",
              "      <td>221.13218</td>\n",
              "      <td>248.1035</td>\n",
              "      <td>11.188556</td>\n",
              "    </tr>\n",
              "    <tr>\n",
              "      <th>min</th>\n",
              "      <td>9.000000e+07</td>\n",
              "      <td>1.000000</td>\n",
              "      <td>1.00000</td>\n",
              "      <td>1.0000</td>\n",
              "      <td>1.000000</td>\n",
              "    </tr>\n",
              "    <tr>\n",
              "      <th>25%</th>\n",
              "      <td>5.500000e+08</td>\n",
              "      <td>2.000000</td>\n",
              "      <td>54.00000</td>\n",
              "      <td>70.0000</td>\n",
              "      <td>16.000000</td>\n",
              "    </tr>\n",
              "    <tr>\n",
              "      <th>50%</th>\n",
              "      <td>9.500000e+08</td>\n",
              "      <td>3.000000</td>\n",
              "      <td>90.00000</td>\n",
              "      <td>96.0000</td>\n",
              "      <td>24.000000</td>\n",
              "    </tr>\n",
              "    <tr>\n",
              "      <th>75%</th>\n",
              "      <td>2.200000e+09</td>\n",
              "      <td>4.000000</td>\n",
              "      <td>182.50000</td>\n",
              "      <td>165.0000</td>\n",
              "      <td>32.000000</td>\n",
              "    </tr>\n",
              "    <tr>\n",
              "      <th>max</th>\n",
              "      <td>4.000000e+10</td>\n",
              "      <td>25.000000</td>\n",
              "      <td>3500.00000</td>\n",
              "      <td>2672.0000</td>\n",
              "      <td>48.000000</td>\n",
              "    </tr>\n",
              "  </tbody>\n",
              "</table>\n",
              "</div>\n",
              "    <div class=\"colab-df-buttons\">\n",
              "\n",
              "  <div class=\"colab-df-container\">\n",
              "    <button class=\"colab-df-convert\" onclick=\"convertToInteractive('df-ae46930b-7e17-4866-8df3-9be2b0ba8c58')\"\n",
              "            title=\"Convert this dataframe to an interactive table.\"\n",
              "            style=\"display:none;\">\n",
              "\n",
              "  <svg xmlns=\"http://www.w3.org/2000/svg\" height=\"24px\" viewBox=\"0 -960 960 960\">\n",
              "    <path d=\"M120-120v-720h720v720H120Zm60-500h600v-160H180v160Zm220 220h160v-160H400v160Zm0 220h160v-160H400v160ZM180-400h160v-160H180v160Zm440 0h160v-160H620v160ZM180-180h160v-160H180v160Zm440 0h160v-160H620v160Z\"/>\n",
              "  </svg>\n",
              "    </button>\n",
              "\n",
              "  <style>\n",
              "    .colab-df-container {\n",
              "      display:flex;\n",
              "      gap: 12px;\n",
              "    }\n",
              "\n",
              "    .colab-df-convert {\n",
              "      background-color: #E8F0FE;\n",
              "      border: none;\n",
              "      border-radius: 50%;\n",
              "      cursor: pointer;\n",
              "      display: none;\n",
              "      fill: #1967D2;\n",
              "      height: 32px;\n",
              "      padding: 0 0 0 0;\n",
              "      width: 32px;\n",
              "    }\n",
              "\n",
              "    .colab-df-convert:hover {\n",
              "      background-color: #E2EBFA;\n",
              "      box-shadow: 0px 1px 2px rgba(60, 64, 67, 0.3), 0px 1px 3px 1px rgba(60, 64, 67, 0.15);\n",
              "      fill: #174EA6;\n",
              "    }\n",
              "\n",
              "    .colab-df-buttons div {\n",
              "      margin-bottom: 4px;\n",
              "    }\n",
              "\n",
              "    [theme=dark] .colab-df-convert {\n",
              "      background-color: #3B4455;\n",
              "      fill: #D2E3FC;\n",
              "    }\n",
              "\n",
              "    [theme=dark] .colab-df-convert:hover {\n",
              "      background-color: #434B5C;\n",
              "      box-shadow: 0px 1px 3px 1px rgba(0, 0, 0, 0.15);\n",
              "      filter: drop-shadow(0px 1px 2px rgba(0, 0, 0, 0.3));\n",
              "      fill: #FFFFFF;\n",
              "    }\n",
              "  </style>\n",
              "\n",
              "    <script>\n",
              "      const buttonEl =\n",
              "        document.querySelector('#df-ae46930b-7e17-4866-8df3-9be2b0ba8c58 button.colab-df-convert');\n",
              "      buttonEl.style.display =\n",
              "        google.colab.kernel.accessAllowed ? 'block' : 'none';\n",
              "\n",
              "      async function convertToInteractive(key) {\n",
              "        const element = document.querySelector('#df-ae46930b-7e17-4866-8df3-9be2b0ba8c58');\n",
              "        const dataTable =\n",
              "          await google.colab.kernel.invokeFunction('convertToInteractive',\n",
              "                                                    [key], {});\n",
              "        if (!dataTable) return;\n",
              "\n",
              "        const docLinkHtml = 'Like what you see? Visit the ' +\n",
              "          '<a target=\"_blank\" href=https://colab.research.google.com/notebooks/data_table.ipynb>data table notebook</a>'\n",
              "          + ' to learn more about interactive tables.';\n",
              "        element.innerHTML = '';\n",
              "        dataTable['output_type'] = 'display_data';\n",
              "        await google.colab.output.renderOutput(dataTable, element);\n",
              "        const docLink = document.createElement('div');\n",
              "        docLink.innerHTML = docLinkHtml;\n",
              "        element.appendChild(docLink);\n",
              "      }\n",
              "    </script>\n",
              "  </div>\n",
              "\n",
              "\n",
              "<div id=\"df-5d0aaec4-60a7-4f20-87d4-39e94d990aa8\">\n",
              "  <button class=\"colab-df-quickchart\" onclick=\"quickchart('df-5d0aaec4-60a7-4f20-87d4-39e94d990aa8')\"\n",
              "            title=\"Suggest charts\"\n",
              "            style=\"display:none;\">\n",
              "\n",
              "<svg xmlns=\"http://www.w3.org/2000/svg\" height=\"24px\"viewBox=\"0 0 24 24\"\n",
              "     width=\"24px\">\n",
              "    <g>\n",
              "        <path d=\"M19 3H5c-1.1 0-2 .9-2 2v14c0 1.1.9 2 2 2h14c1.1 0 2-.9 2-2V5c0-1.1-.9-2-2-2zM9 17H7v-7h2v7zm4 0h-2V7h2v10zm4 0h-2v-4h2v4z\"/>\n",
              "    </g>\n",
              "</svg>\n",
              "  </button>\n",
              "\n",
              "<style>\n",
              "  .colab-df-quickchart {\n",
              "      --bg-color: #E8F0FE;\n",
              "      --fill-color: #1967D2;\n",
              "      --hover-bg-color: #E2EBFA;\n",
              "      --hover-fill-color: #174EA6;\n",
              "      --disabled-fill-color: #AAA;\n",
              "      --disabled-bg-color: #DDD;\n",
              "  }\n",
              "\n",
              "  [theme=dark] .colab-df-quickchart {\n",
              "      --bg-color: #3B4455;\n",
              "      --fill-color: #D2E3FC;\n",
              "      --hover-bg-color: #434B5C;\n",
              "      --hover-fill-color: #FFFFFF;\n",
              "      --disabled-bg-color: #3B4455;\n",
              "      --disabled-fill-color: #666;\n",
              "  }\n",
              "\n",
              "  .colab-df-quickchart {\n",
              "    background-color: var(--bg-color);\n",
              "    border: none;\n",
              "    border-radius: 50%;\n",
              "    cursor: pointer;\n",
              "    display: none;\n",
              "    fill: var(--fill-color);\n",
              "    height: 32px;\n",
              "    padding: 0;\n",
              "    width: 32px;\n",
              "  }\n",
              "\n",
              "  .colab-df-quickchart:hover {\n",
              "    background-color: var(--hover-bg-color);\n",
              "    box-shadow: 0 1px 2px rgba(60, 64, 67, 0.3), 0 1px 3px 1px rgba(60, 64, 67, 0.15);\n",
              "    fill: var(--button-hover-fill-color);\n",
              "  }\n",
              "\n",
              "  .colab-df-quickchart-complete:disabled,\n",
              "  .colab-df-quickchart-complete:disabled:hover {\n",
              "    background-color: var(--disabled-bg-color);\n",
              "    fill: var(--disabled-fill-color);\n",
              "    box-shadow: none;\n",
              "  }\n",
              "\n",
              "  .colab-df-spinner {\n",
              "    border: 2px solid var(--fill-color);\n",
              "    border-color: transparent;\n",
              "    border-bottom-color: var(--fill-color);\n",
              "    animation:\n",
              "      spin 1s steps(1) infinite;\n",
              "  }\n",
              "\n",
              "  @keyframes spin {\n",
              "    0% {\n",
              "      border-color: transparent;\n",
              "      border-bottom-color: var(--fill-color);\n",
              "      border-left-color: var(--fill-color);\n",
              "    }\n",
              "    20% {\n",
              "      border-color: transparent;\n",
              "      border-left-color: var(--fill-color);\n",
              "      border-top-color: var(--fill-color);\n",
              "    }\n",
              "    30% {\n",
              "      border-color: transparent;\n",
              "      border-left-color: var(--fill-color);\n",
              "      border-top-color: var(--fill-color);\n",
              "      border-right-color: var(--fill-color);\n",
              "    }\n",
              "    40% {\n",
              "      border-color: transparent;\n",
              "      border-right-color: var(--fill-color);\n",
              "      border-top-color: var(--fill-color);\n",
              "    }\n",
              "    60% {\n",
              "      border-color: transparent;\n",
              "      border-right-color: var(--fill-color);\n",
              "    }\n",
              "    80% {\n",
              "      border-color: transparent;\n",
              "      border-right-color: var(--fill-color);\n",
              "      border-bottom-color: var(--fill-color);\n",
              "    }\n",
              "    90% {\n",
              "      border-color: transparent;\n",
              "      border-bottom-color: var(--fill-color);\n",
              "    }\n",
              "  }\n",
              "</style>\n",
              "\n",
              "  <script>\n",
              "    async function quickchart(key) {\n",
              "      const quickchartButtonEl =\n",
              "        document.querySelector('#' + key + ' button');\n",
              "      quickchartButtonEl.disabled = true;  // To prevent multiple clicks.\n",
              "      quickchartButtonEl.classList.add('colab-df-spinner');\n",
              "      try {\n",
              "        const charts = await google.colab.kernel.invokeFunction(\n",
              "            'suggestCharts', [key], {});\n",
              "      } catch (error) {\n",
              "        console.error('Error during call to suggestCharts:', error);\n",
              "      }\n",
              "      quickchartButtonEl.classList.remove('colab-df-spinner');\n",
              "      quickchartButtonEl.classList.add('colab-df-quickchart-complete');\n",
              "    }\n",
              "    (() => {\n",
              "      let quickchartButtonEl =\n",
              "        document.querySelector('#df-5d0aaec4-60a7-4f20-87d4-39e94d990aa8 button');\n",
              "      quickchartButtonEl.style.display =\n",
              "        google.colab.kernel.accessAllowed ? 'block' : 'none';\n",
              "    })();\n",
              "  </script>\n",
              "</div>\n",
              "    </div>\n",
              "  </div>\n"
            ],
            "application/vnd.google.colaboratory.intrinsic+json": {
              "type": "dataframe",
              "summary": "{\n  \"name\": \"df\",\n  \"rows\": 8,\n  \"fields\": [\n    {\n      \"column\": \"price\",\n      \"properties\": {\n        \"dtype\": \"number\",\n        \"std\": 13706100244.557264,\n        \"min\": 800.0,\n        \"max\": 40000000000.0,\n        \"num_unique_values\": 8,\n        \"samples\": [\n          2118935874.9975,\n          950000000.0,\n          800.0\n        ],\n        \"semantic_type\": \"\",\n        \"description\": \"\"\n      }\n    },\n    {\n      \"column\": \"kamar\",\n      \"properties\": {\n        \"dtype\": \"number\",\n        \"std\": 280.82499756605534,\n        \"min\": 1.0,\n        \"max\": 800.0,\n        \"num_unique_values\": 8,\n        \"samples\": [\n          4.045,\n          3.0,\n          800.0\n        ],\n        \"semantic_type\": \"\",\n        \"description\": \"\"\n      }\n    },\n    {\n      \"column\": \"luas_bangunan_m2\",\n      \"properties\": {\n        \"dtype\": \"number\",\n        \"std\": 1187.5862789758073,\n        \"min\": 1.0,\n        \"max\": 3500.0,\n        \"num_unique_values\": 8,\n        \"samples\": [\n          160.53125,\n          90.0,\n          800.0\n        ],\n        \"semantic_type\": \"\",\n        \"description\": \"\"\n      }\n    },\n    {\n      \"column\": \"luas_lahan_m2\",\n      \"properties\": {\n        \"dtype\": \"number\",\n        \"std\": 901.0644054162274,\n        \"min\": 1.0,\n        \"max\": 2672.0,\n        \"num_unique_values\": 8,\n        \"samples\": [\n          169.57,\n          96.0,\n          800.0\n        ],\n        \"semantic_type\": \"\",\n        \"description\": \"\"\n      }\n    },\n    {\n      \"column\": \"kode_address\",\n      \"properties\": {\n        \"dtype\": \"number\",\n        \"std\": 275.3450379880263,\n        \"min\": 1.0,\n        \"max\": 800.0,\n        \"num_unique_values\": 8,\n        \"samples\": [\n          23.32625,\n          24.0,\n          800.0\n        ],\n        \"semantic_type\": \"\",\n        \"description\": \"\"\n      }\n    }\n  ]\n}"
            }
          },
          "metadata": {},
          "execution_count": 30
        }
      ],
      "source": [
        "df.describe()"
      ]
    },
    {
      "cell_type": "code",
      "execution_count": 31,
      "metadata": {
        "colab": {
          "base_uri": "https://localhost:8080/"
        },
        "id": "LqCtUrl16b-d",
        "outputId": "1759baf6-a220-46b0-8860-ac6346ae0ab7"
      },
      "outputs": [
        {
          "output_type": "execute_result",
          "data": {
            "text/plain": [
              "address             0\n",
              "price               0\n",
              "kamar               0\n",
              "luas_bangunan       0\n",
              "luas_lahan          0\n",
              "luas_bangunan_m2    0\n",
              "luas_lahan_m2       0\n",
              "kode_address        0\n",
              "dtype: int64"
            ]
          },
          "metadata": {},
          "execution_count": 31
        }
      ],
      "source": [
        "df.isnull().sum()"
      ]
    },
    {
      "cell_type": "code",
      "execution_count": 32,
      "metadata": {
        "colab": {
          "base_uri": "https://localhost:8080/"
        },
        "id": "k5MVDWct5zfs",
        "outputId": "b4eba627-a8cb-40f3-90f8-8ded2f95a83d"
      },
      "outputs": [
        {
          "output_type": "stream",
          "name": "stdout",
          "text": [
            "<class 'pandas.core.frame.DataFrame'>\n",
            "Index: 800 entries, Modern Residence Lowokwaru to Ijen Nirwana Residence G2 Malang\n",
            "Data columns (total 8 columns):\n",
            " #   Column            Non-Null Count  Dtype \n",
            "---  ------            --------------  ----- \n",
            " 0   address           800 non-null    object\n",
            " 1   price             800 non-null    int64 \n",
            " 2   kamar             800 non-null    int64 \n",
            " 3   luas_bangunan     800 non-null    object\n",
            " 4   luas_lahan        800 non-null    object\n",
            " 5   luas_bangunan_m2  800 non-null    int64 \n",
            " 6   luas_lahan_m2     800 non-null    int64 \n",
            " 7   kode_address      800 non-null    int64 \n",
            "dtypes: int64(5), object(3)\n",
            "memory usage: 56.2+ KB\n"
          ]
        }
      ],
      "source": [
        "df.info()"
      ]
    },
    {
      "cell_type": "code",
      "source": [
        "# Hitung korelasi antar atribut menggunakan korelasi Pearson\n",
        "korelasi_pearson = df.corr()\n",
        "#plt.figure(figsize=(6, 10))\n",
        "\n",
        "plt.subplot(1, 2, 1)\n",
        "sns.heatmap(korelasi_pearson, annot=True, cmap='coolwarm', fmt=\".2f\")\n",
        "plt.title('Korelasi Pearson')\n",
        "plt.tight_layout()\n",
        "plt.show()"
      ],
      "metadata": {
        "colab": {
          "base_uri": "https://localhost:8080/",
          "height": 542
        },
        "id": "qnAZRotwIF9V",
        "outputId": "b17c8c6e-c68d-402a-f175-d6bffce88a14"
      },
      "execution_count": 33,
      "outputs": [
        {
          "output_type": "stream",
          "name": "stderr",
          "text": [
            "<ipython-input-33-0fd66da79046>:2: FutureWarning: The default value of numeric_only in DataFrame.corr is deprecated. In a future version, it will default to False. Select only valid columns or specify the value of numeric_only to silence this warning.\n",
            "  korelasi_pearson = df.corr()\n"
          ]
        },
        {
          "output_type": "display_data",
          "data": {
            "text/plain": [
              "<Figure size 640x480 with 2 Axes>"
            ],
            "image/png": "[encoded data removed]"
          },
          "metadata": {}
        }
      ]
    },
    {
      "cell_type": "code",
      "source": [
        "# 2. Box Plot\n",
        "plt.figure(figsize=(10,6))\n",
        "sns.boxplot(data=df)\n",
        "plt.xticks(rotation=45)\n",
        "plt.show()"
      ],
      "metadata": {
        "colab": {
          "base_uri": "https://localhost:8080/",
          "height": 629
        },
        "id": "mXecuOm6D7A6",
        "outputId": "93a9097e-d99d-4fa9-f87c-24d9571b444c"
      },
      "execution_count": 34,
      "outputs": [
        {
          "output_type": "display_data",
          "data": {
            "text/plain": [
              "<Figure size 1000x600 with 1 Axes>"
            ],
            "image/png": "[encoded data removed]"
          },
          "metadata": {}
        }
      ]
    },
    {
      "cell_type": "code",
      "source": [
        "# Hitung IQR untuk setiap kolom\n",
        "Q1 = df.quantile(0.25)\n",
        "Q3 = df.quantile(0.75)\n",
        "IQR = Q3 - Q1\n",
        "\n",
        "# Tentukan batas atas dan batas bawah\n",
        "batas_atas = Q3 + 1.5 * IQR\n",
        "batas_bawah = Q1 - 1.5 * IQR\n",
        "\n",
        "# Hapus outlier\n",
        "df_clean = df[~((df < batas_bawah) | (df > batas_atas)).any(axis=1)]"
      ],
      "metadata": {
        "colab": {
          "base_uri": "https://localhost:8080/"
        },
        "id": "vQkL9VJLEd5E",
        "outputId": "3391c901-7747-42ee-aee0-10454f4f8799"
      },
      "execution_count": 35,
      "outputs": [
        {
          "output_type": "stream",
          "name": "stderr",
          "text": [
            "<ipython-input-35-d83b76cdc386>:2: FutureWarning: The default value of numeric_only in DataFrame.quantile is deprecated. In a future version, it will default to False. Select only valid columns or specify the value of numeric_only to silence this warning.\n",
            "  Q1 = df.quantile(0.25)\n",
            "<ipython-input-35-d83b76cdc386>:3: FutureWarning: The default value of numeric_only in DataFrame.quantile is deprecated. In a future version, it will default to False. Select only valid columns or specify the value of numeric_only to silence this warning.\n",
            "  Q3 = df.quantile(0.75)\n",
            "<ipython-input-35-d83b76cdc386>:11: FutureWarning: Automatic reindexing on DataFrame vs Series comparisons is deprecated and will raise ValueError in a future version. Do `left, right = left.align(right, axis=1, copy=False)` before e.g. `left == right`\n",
            "  df_clean = df[~((df < batas_bawah) | (df > batas_atas)).any(axis=1)]\n"
          ]
        }
      ]
    },
    {
      "cell_type": "code",
      "execution_count": 36,
      "metadata": {
        "colab": {
          "base_uri": "https://localhost:8080/"
        },
        "id": "DKkqUCE-uru6",
        "outputId": "7683d3d0-deb9-430d-e576-104c47140bf7"
      },
      "outputs": [
        {
          "output_type": "stream",
          "name": "stdout",
          "text": [
            "<class 'pandas.core.frame.DataFrame'>\n",
            "Index: 632 entries, Modern Residence Lowokwaru to Ijen Nirwana Residence G2 Malang\n",
            "Data columns (total 8 columns):\n",
            " #   Column            Non-Null Count  Dtype \n",
            "---  ------            --------------  ----- \n",
            " 0   address           632 non-null    object\n",
            " 1   price             632 non-null    int64 \n",
            " 2   kamar             632 non-null    int64 \n",
            " 3   luas_bangunan     632 non-null    object\n",
            " 4   luas_lahan        632 non-null    object\n",
            " 5   luas_bangunan_m2  632 non-null    int64 \n",
            " 6   luas_lahan_m2     632 non-null    int64 \n",
            " 7   kode_address      632 non-null    int64 \n",
            "dtypes: int64(5), object(3)\n",
            "memory usage: 44.4+ KB\n"
          ]
        }
      ],
      "source": [
        "df_clean.info()"
      ]
    },
    {
      "cell_type": "code",
      "execution_count": 37,
      "metadata": {
        "id": "HUtyihLS2vku"
      },
      "outputs": [],
      "source": [
        "df_new = df_clean.drop(df.columns[[0, 3, 4]], axis=1)"
      ]
    },
    {
      "cell_type": "code",
      "execution_count": 38,
      "metadata": {
        "colab": {
          "base_uri": "https://localhost:8080/"
        },
        "id": "hIcOezS14pxX",
        "outputId": "a90df371-fcab-4103-f25f-e44edf348b2e"
      },
      "outputs": [
        {
          "output_type": "stream",
          "name": "stdout",
          "text": [
            "<class 'pandas.core.frame.DataFrame'>\n",
            "Index: 632 entries, Modern Residence Lowokwaru to Ijen Nirwana Residence G2 Malang\n",
            "Data columns (total 5 columns):\n",
            " #   Column            Non-Null Count  Dtype\n",
            "---  ------            --------------  -----\n",
            " 0   price             632 non-null    int64\n",
            " 1   kamar             632 non-null    int64\n",
            " 2   luas_bangunan_m2  632 non-null    int64\n",
            " 3   luas_lahan_m2     632 non-null    int64\n",
            " 4   kode_address      632 non-null    int64\n",
            "dtypes: int64(5)\n",
            "memory usage: 29.6+ KB\n"
          ]
        }
      ],
      "source": [
        "df_new.info()"
      ]
    },
    {
      "cell_type": "code",
      "execution_count": 39,
      "metadata": {
        "id": "XtbaqlWMTD6z"
      },
      "outputs": [],
      "source": [
        "values = df_new.values"
      ]
    },
    {
      "cell_type": "code",
      "execution_count": 40,
      "metadata": {
        "colab": {
          "base_uri": "https://localhost:8080/"
        },
        "id": "eaewXpYYk7KP",
        "outputId": "59f4f9cb-6856-4317-b087-dc40556b8b2c"
      },
      "outputs": [
        {
          "output_type": "execute_result",
          "data": {
            "text/plain": [
              "(632, 5)"
            ]
          },
          "metadata": {},
          "execution_count": 40
        }
      ],
      "source": [
        "values.shape"
      ]
    },
    {
      "cell_type": "markdown",
      "metadata": {
        "id": "Pe-22G2wXs6S"
      },
      "source": [
        "# Split data\n"
      ]
    },
    {
      "cell_type": "code",
      "execution_count": 41,
      "metadata": {
        "colab": {
          "base_uri": "https://localhost:8080/"
        },
        "id": "OjebnJCUfGqI",
        "outputId": "b57c5309-7b25-4742-ac23-beacf2a790b5"
      },
      "outputs": [
        {
          "output_type": "execute_result",
          "data": {
            "text/plain": [
              "((632, 4), (632,))"
            ]
          },
          "metadata": {},
          "execution_count": 41
        }
      ],
      "source": [
        "features = ['kamar','luas_bangunan_m2','luas_lahan_m2', 'kode_address']\n",
        "x = df_clean [features]\n",
        "y = df_clean ['price']\n",
        "x.shape, y.shape"
      ]
    },
    {
      "cell_type": "code",
      "execution_count": 42,
      "metadata": {
        "colab": {
          "base_uri": "https://localhost:8080/"
        },
        "id": "42F4v1pxZxZn",
        "outputId": "2d1b7370-75e9-4b90-9c95-1fd2e0d46082"
      },
      "outputs": [
        {
          "output_type": "execute_result",
          "data": {
            "text/plain": [
              "(127,)"
            ]
          },
          "metadata": {},
          "execution_count": 42
        }
      ],
      "source": [
        "x_train, x_test, y_train, y_test = train_test_split(x, y, random_state=70, test_size=0.2)\n",
        "y_test.shape"
      ]
    },
    {
      "cell_type": "markdown",
      "metadata": {
        "id": "NO_OXbMAgHlO"
      },
      "source": [
        "# Regresi Linear\n"
      ]
    },
    {
      "cell_type": "code",
      "execution_count": 43,
      "metadata": {
        "id": "AZCb3TkHgJOR",
        "colab": {
          "base_uri": "https://localhost:8080/"
        },
        "outputId": "60bba60e-e428-4ec7-a4f1-01808286b06b"
      },
      "outputs": [
        {
          "output_type": "stream",
          "name": "stdout",
          "text": [
            "Akurasi untuk tes model LR =  0.7805224213068384\n"
          ]
        }
      ],
      "source": [
        "lr = LinearRegression()\n",
        "lr.fit(x_train,y_train)\n",
        "pred = lr.predict(x_test)\n",
        "\n",
        "score = lr.score(x_test, y_test)\n",
        "print ('Akurasi untuk tes model LR = ', score)"
      ]
    },
    {
      "cell_type": "markdown",
      "metadata": {
        "id": "dXK_eVqWss_N"
      },
      "source": [
        "# Inputan Model"
      ]
    },
    {
      "cell_type": "code",
      "execution_count": 45,
      "metadata": {
        "colab": {
          "base_uri": "https://localhost:8080/"
        },
        "id": "hVtVaPzesxLm",
        "outputId": "6e96ee29-d04f-469f-8328-45042c4d83c9"
      },
      "outputs": [
        {
          "output_type": "stream",
          "name": "stderr",
          "text": [
            "/usr/local/lib/python3.10/dist-packages/sklearn/base.py:439: UserWarning: X does not have valid feature names, but LinearRegression was fitted with feature names\n",
            "  warnings.warn(\n"
          ]
        },
        {
          "output_type": "stream",
          "name": "stdout",
          "text": [
            "Perkiraan harga yang dapat dijual [3.33308802e+09]\n"
          ]
        }
      ],
      "source": [
        "input_data = np.array([[8, 230, 300, 24]])\n",
        "prediction = lr.predict(input_data)\n",
        "print('Perkiraan harga yang dapat dijual', prediction)"
      ]
    },
    {
      "cell_type": "markdown",
      "metadata": {
        "id": "vE0255YSlFrb"
      },
      "source": [
        "# Save Model"
      ]
    },
    {
      "cell_type": "code",
      "execution_count": 46,
      "metadata": {
        "id": "HAPFZhSuozcK"
      },
      "outputs": [],
      "source": [
        "import pickle\n",
        "\n",
        "filename = 'predik_harga_rumah.sav'\n",
        "pickle.dump(lr,open(filename,'wb'))"
      ]
    }
  ],
  "metadata": {
    "colab": {
      "provenance": []
    },
    "kernelspec": {
      "display_name": "Python 3",
      "name": "python3"
    },
    "language_info": {
      "name": "python"
    }
  },
  "nbformat": 4,
  "nbformat_minor": 0
}